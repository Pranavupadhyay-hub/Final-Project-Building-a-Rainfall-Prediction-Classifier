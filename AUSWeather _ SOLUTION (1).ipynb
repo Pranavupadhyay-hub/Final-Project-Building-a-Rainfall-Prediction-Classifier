{
 "cells": [
  {
   "cell_type": "markdown",
   "id": "97f61889-9bb9-4bf7-ac6e-8afce19e3f7f",
   "metadata": {},
   "source": [
    "#### Defining the date_to_season function"
   ]
  },
  {
   "cell_type": "code",
   "execution_count": 61,
   "id": "3d968969-ae1a-43f7-b4b6-11ecd537dc72",
   "metadata": {},
   "outputs": [],
   "source": [
    "import pandas as pd\n",
    "import matplotlib.pyplot as plt\n",
    "from sklearn.compose import ColumnTransformer\n",
    "from sklearn.pipeline import Pipeline\n",
    "from sklearn.preprocessing import StandardScaler, OneHotEncoder\n",
    "from sklearn.model_selection import train_test_split, GridSearchCV, StratifiedKFold\n",
    "from sklearn.ensemble import RandomForestClassifier\n",
    "from sklearn.linear_model import LogisticRegression\n",
    "from sklearn.metrics import classification_report, confusion_matrix, ConfusionMatrixDisplay\n",
    "import seaborn as sns\n",
    "import numpy as np"
   ]
  },
  {
   "cell_type": "code",
   "execution_count": 62,
   "id": "a99ce98e-6ff4-49a0-938b-81bddb32aec4",
   "metadata": {},
   "outputs": [
    {
     "name": "stdout",
     "output_type": "stream",
     "text": [
      "=== LOADING AND PREPROCESSING DATA ===\n",
      "Original data shape: (145460, 23)\n"
     ]
    }
   ],
   "source": [
    "print(\"=== LOADING AND PREPROCESSING DATA ===\")\n",
    "\n",
    "# Load the data\n",
    "url = \"https://cf-courses-data.s3.us.cloud-object-storage.appdomain.cloud/_0eYOqji3unP1tDNKWZMjg/weatherAUS-2.csv\"\n",
    "df = pd.read_csv(url)\n",
    "print(f\"Original data shape: {df.shape}\")"
   ]
  },
  {
   "cell_type": "code",
   "execution_count": 63,
   "id": "387ca311-6aac-4d3f-a98a-f5f219021749",
   "metadata": {},
   "outputs": [
    {
     "name": "stdout",
     "output_type": "stream",
     "text": [
      "After preprocessing shape: (7557, 23)\n"
     ]
    }
   ],
   "source": [
    "# Data preprocessing steps\n",
    "df = df.dropna()\n",
    "df = df.rename(columns={'RainToday': 'RainYesterday', 'RainTomorrow': 'RainToday'})\n",
    "df = df[df.Location.isin(['Melbourne','MelbourneAirport','Watsonia'])]\n",
    "print(f\"After preprocessing shape: {df.shape}\")"
   ]
  },
  {
   "cell_type": "code",
   "execution_count": 64,
   "id": "458434da-5fbc-45a5-80a7-4725e780b15a",
   "metadata": {},
   "outputs": [],
   "source": [
    "# Define the CORRECTED date_to_season function (NO print statement)\n",
    "def date_to_season(date):\n",
    "    month = date.month\n",
    "    if month in [12, 1, 2]:\n",
    "        return 'Summer'\n",
    "    elif month in [3, 4, 5]:\n",
    "        return 'Autumn'\n",
    "    elif month in [6, 7, 8]:\n",
    "        return 'Winter'\n",
    "    elif month in [9, 10, 11]:\n",
    "        return 'Spring'"
   ]
  },
  {
   "cell_type": "markdown",
   "id": "6b55abc3-6f85-4de0-b424-086610f58dfe",
   "metadata": {},
   "source": [
    "## Exercise 1: Map the dates to seasons and drop the Date column¶"
   ]
  },
  {
   "cell_type": "code",
   "execution_count": 65,
   "id": "5910bb6e-dd7a-4d80-b991-8b050436d184",
   "metadata": {},
   "outputs": [
    {
     "name": "stdout",
     "output_type": "stream",
     "text": [
      "\n",
      "=== EXERCISE 1: Map dates to seasons and drop Date column ===\n",
      "Exercise 1 completed successfully!\n",
      "Season distribution:\n",
      "Season\n",
      "Autumn    1947\n",
      "Winter    1918\n",
      "Spring    1911\n",
      "Summer    1781\n",
      "Name: count, dtype: int64\n"
     ]
    }
   ],
   "source": [
    "print(\"\\n=== EXERCISE 1: Map dates to seasons and drop Date column ===\")\n",
    "# Convert the 'Date' column to datetime format\n",
    "df['Date'] = pd.to_datetime(df['Date'])\n",
    "\n",
    "# Apply the function to the 'Date' column\n",
    "df['Season'] = df['Date'].apply(date_to_season)\n",
    "\n",
    "# Drop the Date column\n",
    "df = df.drop(columns=['Date'])\n",
    "\n",
    "print(\"Exercise 1 completed successfully!\")\n",
    "print(f\"Season distribution:\\n{df['Season'].value_counts()}\")"
   ]
  },
  {
   "cell_type": "markdown",
   "id": "92ccaa33-b546-472b-a7b1-c822af8de0bf",
   "metadata": {},
   "source": [
    "## Exercise 2. Define the feature and target dataframes"
   ]
  },
  {
   "cell_type": "code",
   "execution_count": 32,
   "id": "ce29c54f-17b7-4eff-95bf-56f23932381f",
   "metadata": {},
   "outputs": [
    {
     "name": "stdout",
     "output_type": "stream",
     "text": [
      "\n",
      "=== EXERCISE 2: Define the feature and target dataframes ===\n",
      "Features (X) shape: (7557, 22)\n",
      "Target (y) shape: (7557,)\n"
     ]
    }
   ],
   "source": [
    "print(\"\\n=== EXERCISE 2: Define the feature and target dataframes ===\")\n",
    "X = df.drop(columns='RainToday', axis=1)\n",
    "y = df['RainToday']\n",
    "\n",
    "print(f\"Features (X) shape: {X.shape}\")\n",
    "print(f\"Target (y) shape: {y.shape}\")"
   ]
  },
  {
   "cell_type": "markdown",
   "id": "55629083-79fd-44cd-840c-ad1ad3ceff45",
   "metadata": {},
   "source": [
    "## Exercise 3. How balanced are the classes?"
   ]
  },
  {
   "cell_type": "code",
   "execution_count": 33,
   "id": "38545b9a-7bc3-45b2-a59e-986e4f74ced7",
   "metadata": {},
   "outputs": [
    {
     "name": "stdout",
     "output_type": "stream",
     "text": [
      "\n",
      "=== EXERCISE 3: How balanced are the classes? ===\n",
      "Class counts:\n",
      "RainToday\n",
      "No     5766\n",
      "Yes    1791\n",
      "Name: count, dtype: int64\n"
     ]
    }
   ],
   "source": [
    "print(\"\\n=== EXERCISE 3: How balanced are the classes? ===\")\n",
    "class_counts = y.value_counts()\n",
    "print(\"Class counts:\")\n",
    "print(class_counts)"
   ]
  },
  {
   "cell_type": "markdown",
   "id": "6b250e35-4751-48c7-8f81-f1ce48a92b61",
   "metadata": {},
   "source": [
    "## Exercise 4. What can you conclude from these counts?\n",
    "1.How often does it rain annualy in the Melbourne area?\n",
    "\n",
    "2.How accurate would you be if you just assumed it won't rain every day?\n",
    "\n",
    "3.Is this a balanced dataset\n",
    "\n",
    "4.Next steps?"
   ]
  },
  {
   "cell_type": "markdown",
   "id": "6d326ea5-dfaf-4378-94ac-7bb1c07a71fb",
   "metadata": {},
   "source": [
    "1. It doesn’t rain every day. The data shows that there are usually many more dry days than rainy ones.\n",
    "2. We would be pretty accurate. Since , there are more dry days than the rainy ones , we would be pretty right when we guess it .\n",
    "3. No , it is not a balanced data.\n",
    "4. Since the data is not balanced  , we need to be careful when making a model. Instead of only looking at accuracy , we would want to focus on how good the model is at spotting rainy days specifically and more accurately."
   ]
  },
  {
   "cell_type": "markdown",
   "id": "224da56e-cbf8-482d-a598-f0e3b04d3ca8",
   "metadata": {},
   "source": [
    "## Exercise 5. Split data into training and test sets, ensuring target stratification"
   ]
  },
  {
   "cell_type": "code",
   "execution_count": 66,
   "id": "27934d6c-55ac-486b-98cd-7fb26d0ccfd7",
   "metadata": {},
   "outputs": [
    {
     "name": "stdout",
     "output_type": "stream",
     "text": [
      "Training set shape: (6045, 22)\n",
      "Test set shape: (1512, 22)\n"
     ]
    }
   ],
   "source": [
    "\n",
    "X_train, X_test, y_train, y_test = train_test_split(X, y, test_size=0.2, stratify=y, random_state=42)\n",
    "\n",
    "print(f\"Training set shape: {X_train.shape}\")\n",
    "print(f\"Test set shape: {X_test.shape}\")\n"
   ]
  },
  {
   "cell_type": "markdown",
   "id": "e27f649e-273c-40ae-81f5-2a33f94260ac",
   "metadata": {},
   "source": [
    "## Exercise 6. Automatically detect numerical and categorical columns and assign them to separate numeric and categorical features¶"
   ]
  },
  {
   "cell_type": "code",
   "execution_count": 67,
   "id": "c25616b2-eda2-408f-994a-d976ea64ffee",
   "metadata": {},
   "outputs": [
    {
     "name": "stdout",
     "output_type": "stream",
     "text": [
      "Numeric features (16)\n",
      "Categorical features (6)\n"
     ]
    }
   ],
   "source": [
    "numeric_features = X_train.select_dtypes(include=['float64', 'int64']).columns.tolist()  \n",
    "categorical_features = X_train.select_dtypes(include=['object', 'category']).columns.tolist()\n",
    "\n",
    "print(f\"Numeric features ({len(numeric_features)})\")\n",
    "print(f\"Categorical features ({len(categorical_features)})\")"
   ]
  },
  {
   "cell_type": "markdown",
   "id": "57f22ae2-7d28-4bd8-a4af-7899fa6d938d",
   "metadata": {},
   "source": [
    "## Exercise 7. Combine the transformers into a single preprocessing column transformer"
   ]
  },
  {
   "cell_type": "code",
   "execution_count": 36,
   "id": "747addc9-edc4-4aac-bdfb-aea682ac3495",
   "metadata": {},
   "outputs": [
    {
     "name": "stdout",
     "output_type": "stream",
     "text": [
      "\n",
      "=== EXERCISE 7: Combine transformers into preprocessing pipeline ===\n",
      "Preprocessor created successfully!\n"
     ]
    }
   ],
   "source": [
    "print(\"\\n=== EXERCISE 7: Combine transformers into preprocessing pipeline ===\")\n",
    "# Define transformers\n",
    "numeric_transformer = Pipeline(steps=[('scaler', StandardScaler())])\n",
    "categorical_transformer = Pipeline(steps=[('onehot', OneHotEncoder(handle_unknown='ignore'))])\n",
    "\n",
    "# Combine transformers\n",
    "preprocessor = ColumnTransformer(\n",
    "    transformers=[\n",
    "        ('num', numeric_transformer, numeric_features),\n",
    "        ('cat', categorical_transformer, categorical_features)\n",
    "    ]\n",
    ")\n",
    "print(\"Preprocessor created successfully!\")"
   ]
  },
  {
   "cell_type": "markdown",
   "id": "a04fec05-edee-49ec-84ea-275ed5495de2",
   "metadata": {},
   "source": [
    "## Exercise 8. Create a pipeline by combining the preprocessing with a Random Forest classifier¶"
   ]
  },
  {
   "cell_type": "code",
   "execution_count": 38,
   "id": "6bd76dda-7234-4c09-b120-7f16db2882fb",
   "metadata": {},
   "outputs": [],
   "source": [
    "\n",
    "pipeline = Pipeline(steps=[\n",
    "    ('preprocessor', preprocessor),\n",
    "    ('classifier', RandomForestClassifier(random_state=42))\n",
    "])\n",
    "\n",
    "# Define parameter grid\n",
    "param_grid = {\n",
    "    'classifier__n_estimators': [50, 100],\n",
    "    'classifier__max_depth': [None, 10, 20],\n",
    "    'classifier__min_samples_split': [2, 5]\n",
    "}\n",
    "\n",
    "# Cross-validation setup\n",
    "cv = StratifiedKFold(n_splits=5, shuffle=True, random_state=42)\n"
   ]
  },
  {
   "cell_type": "markdown",
   "id": "ae7b4e4b-3d98-4c84-9d85-097ba87cea27",
   "metadata": {},
   "source": [
    "## Exercise 9. Instantiate and fit GridSearchCV to the pipeline"
   ]
  },
  {
   "cell_type": "code",
   "execution_count": 40,
   "id": "db65a9cc-40fb-4be1-9710-cf15ef3a82c1",
   "metadata": {},
   "outputs": [
    {
     "name": "stdout",
     "output_type": "stream",
     "text": [
      "\n",
      "=== EXERCISE 9: Instantiate and fit GridSearchCV ===\n",
      "Fitting 5 folds for each of 12 candidates, totalling 60 fits\n",
      "\n",
      "Best parameters found:  {'classifier__max_depth': 20, 'classifier__min_samples_split': 2, 'classifier__n_estimators': 100}\n",
      "Best cross-validation score: 0.8524\n"
     ]
    }
   ],
   "source": [
    "print(\"\\n=== EXERCISE 9: Instantiate and fit GridSearchCV ===\")\n",
    "grid_search = GridSearchCV(pipeline, param_grid, cv=cv, scoring='accuracy', verbose=1, n_jobs=-1)  \n",
    "grid_search.fit(X_train, y_train)\n",
    "\n",
    "print(\"\\nBest parameters found: \", grid_search.best_params_)\n",
    "print(\"Best cross-validation score: {:.4f}\".format(grid_search.best_score_))"
   ]
  },
  {
   "cell_type": "markdown",
   "id": "aab59058-d624-4f60-92b6-c54b11c7b4db",
   "metadata": {},
   "source": [
    "## Exercise 10. Display your model's estimated score"
   ]
  },
  {
   "cell_type": "code",
   "execution_count": 41,
   "id": "9fa31da2-4b14-4132-96e1-70a0388116d9",
   "metadata": {},
   "outputs": [
    {
     "name": "stdout",
     "output_type": "stream",
     "text": [
      "\n",
      "=== EXERCISE 10: Display model's estimated score ===\n",
      "Test set score: 0.8446\n"
     ]
    }
   ],
   "source": [
    "print(\"\\n=== EXERCISE 10: Display model's estimated score ===\")\n",
    "test_score = grid_search.score(X_test, y_test)  \n",
    "print(\"Test set score: {:.4f}\".format(test_score))"
   ]
  },
  {
   "cell_type": "markdown",
   "id": "501b3751-7120-4359-9cb9-e01a5dea0fbe",
   "metadata": {},
   "source": [
    "## Exercise 11. Get the model predictions from the grid search estimator on the unseen data"
   ]
  },
  {
   "cell_type": "code",
   "execution_count": 42,
   "id": "db57189a-06c4-4de3-94fa-046efad88cca",
   "metadata": {},
   "outputs": [
    {
     "name": "stdout",
     "output_type": "stream",
     "text": [
      "\n",
      "=== EXERCISE 11: Get model predictions ===\n"
     ]
    }
   ],
   "source": [
    "print(\"\\n=== EXERCISE 11: Get model predictions ===\")\n",
    "y_pred = grid_search.predict(X_test)"
   ]
  },
  {
   "cell_type": "markdown",
   "id": "185143d5-e4f2-4bef-945c-3b9c3bca4210",
   "metadata": {},
   "source": [
    "## Exercise 12. Print the classification report"
   ]
  },
  {
   "cell_type": "code",
   "execution_count": 43,
   "id": "ecec1fbb-55ab-4771-aa4c-71a2d9382ec8",
   "metadata": {},
   "outputs": [
    {
     "name": "stdout",
     "output_type": "stream",
     "text": [
      "\n",
      "=== EXERCISE 12: Print classification report ===\n",
      "Classification Report:\n",
      "              precision    recall  f1-score   support\n",
      "\n",
      "          No       0.86      0.95      0.90      1154\n",
      "         Yes       0.75      0.51      0.61       358\n",
      "\n",
      "    accuracy                           0.84      1512\n",
      "   macro avg       0.81      0.73      0.76      1512\n",
      "weighted avg       0.84      0.84      0.83      1512\n",
      "\n"
     ]
    }
   ],
   "source": [
    "print(\"\\n=== EXERCISE 12: Print classification report ===\")\n",
    "print(\"Classification Report:\")\n",
    "print(classification_report(y_test, y_pred))"
   ]
  },
  {
   "cell_type": "markdown",
   "id": "e4d02a2d-7d9e-4a20-b710-3f864e3916ac",
   "metadata": {},
   "source": [
    "## Exercise 13. Plot the confusion matrix"
   ]
  },
  {
   "cell_type": "code",
   "execution_count": 45,
   "id": "bdd9fd1f-b7ab-496a-8bc8-26c172781d3e",
   "metadata": {},
   "outputs": [
    {
     "name": "stdout",
     "output_type": "stream",
     "text": [
      "\n",
      "=== EXERCISE 13: Plot confusion matrix ===\n",
      "Confusion Matrix:\n",
      "[[1094   60]\n",
      " [ 175  183]]\n",
      "True Positive Rate: 0.5112\n"
     ]
    },
    {
     "data": {
      "image/png": "[encoded data removed]",
      "text/plain": [
       "<Figure size 640x480 with 2 Axes>"
      ]
     },
     "metadata": {},
     "output_type": "display_data"
    }
   ],
   "source": [
    "print(\"\\n=== EXERCISE 13: Plot confusion matrix ===\")\n",
    "conf_matrix = confusion_matrix(y_test, y_pred)\n",
    "print(\"Confusion Matrix:\")\n",
    "print(conf_matrix)\n",
    "\n",
    "# Calculate metrics\n",
    "tn, fp, fn, tp = conf_matrix.ravel()\n",
    "true_positive_rate = tp / (tp + fn)\n",
    "print(f\"True Positive Rate: {true_positive_rate:.4f}\")\n",
    "\n",
    "# Create confusion matrix display\n",
    "disp = ConfusionMatrixDisplay(confusion_matrix=conf_matrix)\n",
    "disp.plot(cmap='Blues')\n",
    "plt.title('Random Forest Confusion Matrix')\n",
    "plt.show()"
   ]
  },
  {
   "cell_type": "markdown",
   "id": "047388fa-b550-4e65-9657-4f3352ab6d18",
   "metadata": {},
   "source": [
    "## Exercise 14. Extract the feature importances"
   ]
  },
  {
   "cell_type": "code",
   "execution_count": 68,
   "id": "44346831-d651-4bfa-b081-4b9e0a41a654",
   "metadata": {},
   "outputs": [
    {
     "name": "stdout",
     "output_type": "stream",
     "text": [
      "\n",
      "=== EXERCISE 14: Extract feature importances ===\n",
      "Top 10 most important features:\n",
      "          Feature  Importance\n",
      "9     Humidity3pm    0.120752\n",
      "11    Pressure3pm    0.090827\n",
      "10    Pressure9am    0.085730\n",
      "4        Sunshine    0.081560\n",
      "5   WindGustSpeed    0.050779\n",
      "15        Temp3pm    0.045733\n",
      "1         MaxTemp    0.041407\n",
      "0         MinTemp    0.040418\n",
      "14        Temp9am    0.039146\n",
      "8     Humidity9am    0.036119\n",
      "Most important feature: Humidity3pm\n"
     ]
    },
    {
     "data": {
      "image/png": "[encoded data removed]",
      "text/plain": [
       "<Figure size 1200x800 with 1 Axes>"
      ]
     },
     "metadata": {},
     "output_type": "display_data"
    }
   ],
   "source": [
    "print(\"\\n=== EXERCISE 14: Extract feature importances ===\")\n",
    "feature_importances = grid_search.best_estimator_['classifier'].feature_importances_\n",
    "\n",
    "# Get feature names\n",
    "feature_names = numeric_features + list(grid_search.best_estimator_['preprocessor']\n",
    "                                        .named_transformers_['cat']\n",
    "                                        .named_steps['onehot']\n",
    "                                        .get_feature_names_out(categorical_features))\n",
    "\n",
    "# Create importance dataframe\n",
    "importance_df = pd.DataFrame({'Feature': feature_names, 'Importance': feature_importances})\n",
    "importance_df = importance_df.sort_values(by='Importance', ascending=False)\n",
    "\n",
    "print(\"Top 10 most important features:\")\n",
    "print(importance_df.head(10))\n",
    "\n",
    "most_important_feature = importance_df.iloc[0]['Feature']\n",
    "print(f\"Most important feature: {most_important_feature}\")\n",
    "\n",
    "# Plot feature importances\n",
    "N = 20\n",
    "top_features = importance_df.head(N)\n",
    "plt.figure(figsize=(12, 8))\n",
    "plt.barh(top_features['Feature'], top_features['Importance'], color='skyblue')\n",
    "plt.gca().invert_yaxis()\n",
    "plt.title(f'Top {N} Most Important Features')\n",
    "plt.xlabel('Importance Score')\n",
    "plt.tight_layout()\n",
    "plt.show()\n"
   ]
  },
  {
   "cell_type": "markdown",
   "id": "c850fa77-5422-4560-9ae7-bcebced03825",
   "metadata": {},
   "source": [
    "## Exercise 15. Update the pipeline and the parameter grid"
   ]
  },
  {
   "cell_type": "code",
   "execution_count": 50,
   "id": "cb7f10c4-c6b3-4f54-b2cf-29a768af5a41",
   "metadata": {},
   "outputs": [
    {
     "name": "stdout",
     "output_type": "stream",
     "text": [
      "\n",
      "=== EXERCISE 15: Update pipeline for Logistic Regression ===\n",
      "Fitting 5 folds for each of 4 candidates, totalling 20 fits\n",
      "Logistic Regression Results:\n",
      "Best parameters: {'classifier__class_weight': None, 'classifier__penalty': 'l2', 'classifier__solver': 'liblinear'}\n",
      "Best CV score: 0.8372\n",
      "Test score: 0.8300\n",
      "\n",
      "Classification Report for Logistic Regression:\n",
      "              precision    recall  f1-score   support\n",
      "\n",
      "          No       0.86      0.93      0.89      1154\n",
      "         Yes       0.69      0.51      0.59       358\n",
      "\n",
      "    accuracy                           0.83      1512\n",
      "   macro avg       0.77      0.72      0.74      1512\n",
      "weighted avg       0.82      0.83      0.82      1512\n",
      "\n",
      "Confusion Matrix for Logistic Regression:\n",
      "[[1071   83]\n",
      " [ 174  184]]\n"
     ]
    },
    {
     "data": {
      "image/png": "[encoded data removed]",
      "text/plain": [
       "<Figure size 800x600 with 2 Axes>"
      ]
     },
     "metadata": {},
     "output_type": "display_data"
    }
   ],
   "source": [
    "print(\"\\n=== EXERCISE 15: Update pipeline for Logistic Regression ===\")\n",
    "# Create new pipeline with LogisticRegression\n",
    "lr_pipeline = Pipeline(steps=[\n",
    "    ('preprocessor', preprocessor),\n",
    "    ('classifier', LogisticRegression(random_state=42, max_iter=1000))\n",
    "])\n",
    "\n",
    "# Define parameter grid for Logistic Regression\n",
    "lr_param_grid = {\n",
    "    'classifier__solver': ['liblinear'],\n",
    "    'classifier__penalty': ['l1', 'l2'],\n",
    "    'classifier__class_weight': [None, 'balanced']\n",
    "}\n",
    "\n",
    "# Create and fit GridSearchCV for Logistic Regression\n",
    "lr_grid_search = GridSearchCV(lr_pipeline, lr_param_grid, cv=cv, scoring='accuracy', verbose=1)\n",
    "lr_grid_search.fit(X_train, y_train)\n",
    "\n",
    "# Make predictions with Logistic Regression\n",
    "y_pred_lr = lr_grid_search.predict(X_test)\n",
    "\n",
    "print(\"Logistic Regression Results:\")\n",
    "print(\"Best parameters:\", lr_grid_search.best_params_)\n",
    "print(f\"Best CV score: {lr_grid_search.best_score_:.4f}\")\n",
    "print(f\"Test score: {lr_grid_search.score(X_test, y_test):.4f}\")\n",
    "\n",
    "print(\"\\nClassification Report for Logistic Regression:\")\n",
    "print(classification_report(y_test, y_pred_lr))\n",
    "\n",
    "# Confusion matrix for Logistic Regression\n",
    "conf_matrix_lr = confusion_matrix(y_test, y_pred_lr)\n",
    "print(\"Confusion Matrix for Logistic Regression:\")\n",
    "print(conf_matrix_lr)\n",
    "\n",
    "plt.figure(figsize=(8, 6))\n",
    "sns.heatmap(conf_matrix_lr, annot=True, cmap='Blues', fmt='d')\n",
    "plt.title('Logistic Regression Confusion Matrix')\n",
    "plt.xlabel('Predicted')\n",
    "plt.ylabel('Actual')\n",
    "plt.show()"
   ]
  },
  {
   "cell_type": "markdown",
   "id": "61888468-0dab-43bd-91d7-db47dcb5f0cd",
   "metadata": {},
   "source": [
    "###  Compare the results to your previous model."
   ]
  },
  {
   "cell_type": "code",
   "execution_count": 69,
   "id": "0958d227-2031-4f97-a14d-5b5ae49df37c",
   "metadata": {},
   "outputs": [
    {
     "name": "stdout",
     "output_type": "stream",
     "text": [
      "\n",
      "============================================================\n",
      "FINAL MODEL COMPARISON\n",
      "============================================================\n",
      "Random Forest - Accuracy: 0.8446, TPR: 0.5112\n",
      "Logistic Regression - Accuracy: 0.8300, TPR: 0.5140\n"
     ]
    }
   ],
   "source": [
    "print(\"\\n\" + \"=\"*60)\n",
    "print(\"FINAL MODEL COMPARISON\")\n",
    "print(\"=\"*60)\n",
    "\n",
    "# Calculate final metrics\n",
    "rf_accuracy = grid_search.score(X_test, y_test)\n",
    "lr_accuracy = lr_grid_search.score(X_test, y_test)\n",
    "\n",
    "tn_lr, fp_lr, fn_lr, tp_lr = conf_matrix_lr.ravel()\n",
    "lr_tpr = tp_lr / (tp_lr + fn_lr)\n",
    "\n",
    "print(f\"Random Forest - Accuracy: {rf_accuracy:.4f}, TPR: {true_positive_rate:.4f}\")\n",
    "print(f\"Logistic Regression - Accuracy: {lr_accuracy:.4f}, TPR: {lr_tpr:.4f}\")\n",
    "\n"
   ]
  },
  {
   "cell_type": "code",
   "execution_count": null,
   "id": "a67d0ee7-dac1-49b3-b13b-96297076bbd5",
   "metadata": {},
   "outputs": [],
   "source": []
  }
 ],
 "metadata": {
  "kernelspec": {
   "display_name": "Python 3 (ipykernel)",
   "language": "python",
   "name": "python3"
  },
  "language_info": {
   "codemirror_mode": {
    "name": "ipython",
    "version": 3
   },
   "file_extension": ".py",
   "mimetype": "text/x-python",
   "name": "python",
   "nbconvert_exporter": "python",
   "pygments_lexer": "ipython3",
   "version": "3.12.8"
  }
 },
 "nbformat": 4,
 "nbformat_minor": 5
}
